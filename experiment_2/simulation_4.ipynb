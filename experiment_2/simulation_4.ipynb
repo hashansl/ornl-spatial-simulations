{
 "cells": [
  {
   "cell_type": "markdown",
   "metadata": {},
   "source": [
    "#### Simulate the Positive,Negative and Random Sampling"
   ]
  },
  {
   "cell_type": "code",
   "execution_count": 143,
   "metadata": {},
   "outputs": [],
   "source": [
    "import numpy as np\n",
    "import pandas as pd\n",
    "import geopandas as gpd\n",
    "from shapely import geometry as geom\n",
    "from scipy.ndimage import gaussian_filter\n",
    "\n",
    "import matplotlib.pyplot as plt\n"
   ]
  },
  {
   "cell_type": "code",
   "execution_count": null,
   "metadata": {},
   "outputs": [],
   "source": [
    "\n",
    "def generate_grid_dataframe(grid_side_length, autocorrelation=\"none\", n_clusters=2, random_seed=42):\n",
    "    \"\"\"\n",
    "    Generates a GeoDataFrame based on a square grid with various spatial patterns.\n",
    "    \n",
    "    Parameters:\n",
    "        grid_side_length (int): The number of squares along one side of the grid.\n",
    "        autocorrelation (str): Type of spatial autocorrelation. Options:\n",
    "                               \"none\" or \"random\" - No spatial correlation (pure random)\n",
    "                               \"positive\" - Spatially smoothed using a Gaussian filter\n",
    "                               \"negative\" - Spatially negative correlation (checkerboard pattern)\n",
    "                               \"low_cluster\" - Clusters that lower the values relative to the background\n",
    "                               \"high_cluster\" - Clusters that raise the values relative to the background\n",
    "        n_clusters (int): Number of clusters to generate (only used in cluster modes).\n",
    "        random_seed (int): Random seed for reproducibility.\n",
    "        \n",
    "    Returns:\n",
    "        GeoDataFrame: A GeoDataFrame containing square geometries and normalized values between 0 and 1.\n",
    "    \"\"\"\n",
    "    np.random.seed(random_seed)  # Set the random seed for reproducibility\n",
    "\n",
    "    grid_size = (grid_side_length, grid_side_length)\n",
    "    \n",
    "    if autocorrelation in [\"none\", \"random\"]:\n",
    "        # Pure random values using uniform distribution (0 to 1)\n",
    "        values = np.random.rand(*grid_size)\n",
    "        \n",
    "    elif autocorrelation == \"positive\":\n",
    "        # Start with normally distributed values then smooth them\n",
    "        random_values = np.random.normal(0.5, 0.125, grid_size)\n",
    "        values = gaussian_filter(random_values, sigma=1.5)\n",
    "        \n",
    "    elif autocorrelation == \"negative\":\n",
    "        # Create spatially negative correlation using a checkerboard sign flip\n",
    "        random_values = np.random.normal(0.5, 0.125, grid_size)\n",
    "        smoothed_values = gaussian_filter(random_values, sigma=1.5)\n",
    "        checkerboard = np.indices(grid_size).sum(axis=0) % 2  # alternating pattern\n",
    "        values = smoothed_values * (-1) ** checkerboard\n",
    "        values += np.random.normal(0, 0.05, grid_size)  # add a bit of noise\n",
    "        \n",
    "    elif autocorrelation in [\"low_cluster\", \"high_cluster\"]:\n",
    "        # Start with a random background\n",
    "        values = np.random.rand(*grid_size)\n",
    "        # Generate random cluster centers\n",
    "        cluster_centers = np.random.randint(0, grid_side_length, (n_clusters, 2))\n",
    "        cluster_radius = grid_side_length // 4  # influence radius\n",
    "        \n",
    "        # Apply each cluster's effect based on distance\n",
    "        for center in cluster_centers:\n",
    "            y, x = np.ogrid[:grid_side_length, :grid_side_length]\n",
    "            # Calculate Euclidean distance from the cluster center\n",
    "            dist = np.sqrt((x - center[1])**2 + (y - center[0])**2)\n",
    "            # Gaussian decay of cluster effect with distance\n",
    "            effect = np.exp(-dist**2 / (2 * cluster_radius**2))\n",
    "            if autocorrelation == \"high_cluster\":\n",
    "                values += effect  # add effect to raise values\n",
    "            else:  # low_cluster: subtract effect to lower values\n",
    "                values -= effect\n",
    "        \n",
    "        # Optionally, add a bit of background noise\n",
    "        values += np.random.normal(0, 0.05, grid_size)\n",
    "        \n",
    "    else:\n",
    "        raise ValueError(\"Invalid autocorrelation type. Choose from 'none'/'random', 'positive', 'negative', 'low_cluster', or 'high_cluster'.\")\n",
    "\n",
    "    # # Normalize values to be between 0 and 1\n",
    "    # min_val = values.min()\n",
    "    # max_val = values.max()\n",
    "    # if max_val - min_val > 0:\n",
    "    #     values = (values - min_val) / (max_val - min_val)\n",
    "    # else:\n",
    "    #     values = np.full(grid_size, 0.5)\n",
    "\n",
    "    # Create a DataFrame for the grid cells\n",
    "    num_squares = grid_side_length ** 2\n",
    "    df = pd.DataFrame({'Index': np.arange(num_squares)})\n",
    "    df['Value'] = values.ravel()\n",
    "\n",
    "    # Function to calculate square coordinates based on the grid index\n",
    "    def calculate_square_coordinates(row):\n",
    "        value = row['Index']\n",
    "        x = value % grid_side_length\n",
    "        y = value // grid_side_length\n",
    "        return geom.Polygon([(x, y), (x+1, y), (x+1, y+1), (x, y+1)])\n",
    "    \n",
    "    df['geometry'] = df.apply(calculate_square_coordinates, axis=1)\n",
    "    gdf = gpd.GeoDataFrame(df, geometry='geometry')\n",
    "    \n",
    "    return gdf\n",
    "\n",
    "# Example usage:\n",
    "# gdf = generate_grid_dataframe(10, autocorrelation=\"high_cluster\", n_clusters=3, random_seed=42)\n",
    "# gdf.plot(column='Value', cmap='viridis')\n"
   ]
  },
  {
   "cell_type": "code",
   "execution_count": 145,
   "metadata": {},
   "outputs": [
    {
     "name": "stdout",
     "output_type": "stream",
     "text": [
      "Sum of values in the grid with no spatial correlation: 107.7236199374988\n",
      "Sum of values in the grid with positive spatial correlation: 135.61567795400194\n",
      "Sum of values in the grid with negative spatial correlation: 224.56847699230428\n",
      "Sum of values in the grid with clustered spatial correlation: 327.81147034979836\n"
     ]
    }
   ],
   "source": [
    "grid_length = 15\n",
    "n_clusters = 4\n",
    "\n",
    "gdf_none = generate_grid_dataframe(grid_length, autocorrelation=\"none\", random_seed=42)        # No spatial correlation\n",
    "gdf_low_clusters = generate_grid_dataframe(grid_length, autocorrelation=\"high_cluster\",n_clusters=1, random_seed=42)  # Positive spatial correlation\n",
    "gdf_high_clusters = generate_grid_dataframe(grid_length, autocorrelation=\"high_cluster\",n_clusters=3,  random_seed=42)  # Negative spatial correlation\n",
    "gdf_negative = generate_grid_dataframe(grid_length, autocorrelation=\"high_cluster\",n_clusters=5, random_seed=42)  # Clustered spatial correlation\n",
    "\n",
    "\n",
    "# print the sum of the values in each grid\n",
    "print(f\"Sum of values in the grid with no spatial correlation: {gdf_none['Value'].sum()}\")\n",
    "print(f\"Sum of values in the grid with positive spatial correlation: {gdf_low_clusters['Value'].sum()}\")\n",
    "print(f\"Sum of values in the grid with negative spatial correlation: {gdf_high_clusters['Value'].sum()}\")\n",
    "print(f\"Sum of values in the grid with clustered spatial correlation: {gdf_negative['Value'].sum()}\")\n",
    "\n"
   ]
  },
  {
   "cell_type": "code",
   "execution_count": 146,
   "metadata": {},
   "outputs": [
    {
     "data": {
      "image/png": "[encoded data removed]",
      "text/plain": [
       "<Figure size 1500x500 with 4 Axes>"
      ]
     },
     "metadata": {},
     "output_type": "display_data"
    }
   ],
   "source": [
    "import matplotlib.pyplot as plt\n",
    "\n",
    "fig, axs = plt.subplots(1, 4, figsize=(15, 5))\n",
    "\n",
    "# Plot each GeoDataFrame and remove axes\n",
    "gdf_none.plot(column='Value', cmap='coolwarm', legend=False, ax=axs[0])\n",
    "gdf_low_clusters.plot(column='Value', cmap='coolwarm', legend=False, ax=axs[1])\n",
    "gdf_high_clusters.plot(column='Value', cmap='coolwarm', legend=False, ax=axs[2])\n",
    "gdf_negative.plot(column='Value', cmap='coolwarm', legend=False, ax=axs[3])\n",
    "\n",
    "# Remove axes\n",
    "for ax in axs:\n",
    "    ax.set_axis_off()\n",
    "\n",
    "plt.show()\n"
   ]
  },
  {
   "cell_type": "code",
   "execution_count": 147,
   "metadata": {},
   "outputs": [],
   "source": [
    "from utills.geodata import generate_grid_dataframe,calculate_moran_i\n",
    "\n",
    "from utills.adjacency_simplex import AdjacencySimplex \n",
    "from utills.calculate_tda_summaries import compute_persistence"
   ]
  },
  {
   "cell_type": "code",
   "execution_count": 148,
   "metadata": {},
   "outputs": [
    {
     "name": "stdout",
     "output_type": "stream",
     "text": [
      "Calculating for random\n",
      "Calculating for high clusters\n"
     ]
    },
    {
     "name": "stderr",
     "output_type": "stream",
     "text": [
      "/var/folders/j3/904q7dbj02j_jyjz7pvfgz384d40kw/T/ipykernel_95121/1272383537.py:37: FutureWarning: The behavior of DataFrame concatenation with empty or all-NA entries is deprecated. In a future version, this will no longer exclude empty or all-NA columns when determining the result dtypes. To retain the old behavior, exclude the relevant entries before the concat operation.\n",
      "  results_df = pd.concat([results_df,new_row],ignore_index=True)\n"
     ]
    },
    {
     "name": "stdout",
     "output_type": "stream",
     "text": [
      "Calculating for low clusters\n",
      "Calculating for negative\n"
     ]
    }
   ],
   "source": [
    "results_df = pd.DataFrame(columns=['GDF','Filter Method','TL','AL','TML','AML','Average'])\n",
    "\n",
    "# create a dictionary to gdf and name\n",
    "gdf_dict = {'random':gdf_none,'high clusters':gdf_high_clusters,'low clusters':gdf_low_clusters,'negative':gdf_negative}\n",
    "\n",
    "\n",
    "for name,gdf in gdf_dict.items():\n",
    "    gdf_temp = gdf.copy()\n",
    "\n",
    "    average_value = gdf_temp['Value'].mean()\n",
    "    \n",
    "    print(f\"Calculating for {name}\")\n",
    "    # Initialize the AdjacencySimplex class\n",
    "    adj_simplex = AdjacencySimplex(gdf_temp, 'Value', threshold = None, filter_method = 'down')\n",
    "\n",
    "    # Filter the GeoDataFrame\n",
    "    filtered_df,gdf_id = adj_simplex.filter_sort_gdf()\n",
    "\n",
    "    # Calculate the adjacent countries\n",
    "    adj_simplex.calculate_adjacent_countries()\n",
    "\n",
    "    # Form the simplicial complex\n",
    "    simplex = adj_simplex.form_simplicial_complex()\n",
    "\n",
    "    # Compute the persistence\n",
    "    _,TL, AL, TML, AML,_ = compute_persistence(simplices=simplex,filtered_df=filtered_df,variable_name='Value')\n",
    "\n",
    "    # Add the results to the results_df\n",
    "    new_row = pd.DataFrame({'GDF': name,\n",
    "                                'Filter Method': ['down'],\n",
    "                                'TL': [TL],\n",
    "                                'AL': [AL],\n",
    "                                'TML': [TML],\n",
    "                                'AML': [AML],\n",
    "                                'Average': average_value},\n",
    "                                )\n",
    "    results_df = pd.concat([results_df,new_row],ignore_index=True)\n"
   ]
  },
  {
   "cell_type": "code",
   "execution_count": 149,
   "metadata": {},
   "outputs": [
    {
     "data": {
      "text/html": [
       "<div>\n",
       "<style scoped>\n",
       "    .dataframe tbody tr th:only-of-type {\n",
       "        vertical-align: middle;\n",
       "    }\n",
       "\n",
       "    .dataframe tbody tr th {\n",
       "        vertical-align: top;\n",
       "    }\n",
       "\n",
       "    .dataframe thead th {\n",
       "        text-align: right;\n",
       "    }\n",
       "</style>\n",
       "<table border=\"1\" class=\"dataframe\">\n",
       "  <thead>\n",
       "    <tr style=\"text-align: right;\">\n",
       "      <th></th>\n",
       "      <th>GDF</th>\n",
       "      <th>Filter Method</th>\n",
       "      <th>TL</th>\n",
       "      <th>AL</th>\n",
       "      <th>TML</th>\n",
       "      <th>AML</th>\n",
       "      <th>Average</th>\n",
       "    </tr>\n",
       "  </thead>\n",
       "  <tbody>\n",
       "    <tr>\n",
       "      <th>0</th>\n",
       "      <td>random</td>\n",
       "      <td>down</td>\n",
       "      <td>120.764205</td>\n",
       "      <td>0.536730</td>\n",
       "      <td>60.382102</td>\n",
       "      <td>0.268365</td>\n",
       "      <td>0.478772</td>\n",
       "    </tr>\n",
       "    <tr>\n",
       "      <th>1</th>\n",
       "      <td>high clusters</td>\n",
       "      <td>down</td>\n",
       "      <td>223.908081</td>\n",
       "      <td>0.995147</td>\n",
       "      <td>111.954041</td>\n",
       "      <td>0.497574</td>\n",
       "      <td>0.998082</td>\n",
       "    </tr>\n",
       "    <tr>\n",
       "      <th>2</th>\n",
       "      <td>low clusters</td>\n",
       "      <td>down</td>\n",
       "      <td>283.721606</td>\n",
       "      <td>1.260985</td>\n",
       "      <td>141.860803</td>\n",
       "      <td>0.630492</td>\n",
       "      <td>0.602736</td>\n",
       "    </tr>\n",
       "    <tr>\n",
       "      <th>3</th>\n",
       "      <td>negative</td>\n",
       "      <td>down</td>\n",
       "      <td>316.128237</td>\n",
       "      <td>1.405014</td>\n",
       "      <td>158.064118</td>\n",
       "      <td>0.702507</td>\n",
       "      <td>1.456940</td>\n",
       "    </tr>\n",
       "  </tbody>\n",
       "</table>\n",
       "</div>"
      ],
      "text/plain": [
       "             GDF Filter Method          TL        AL         TML       AML  \\\n",
       "0         random          down  120.764205  0.536730   60.382102  0.268365   \n",
       "1  high clusters          down  223.908081  0.995147  111.954041  0.497574   \n",
       "2   low clusters          down  283.721606  1.260985  141.860803  0.630492   \n",
       "3       negative          down  316.128237  1.405014  158.064118  0.702507   \n",
       "\n",
       "    Average  \n",
       "0  0.478772  \n",
       "1  0.998082  \n",
       "2  0.602736  \n",
       "3  1.456940  "
      ]
     },
     "execution_count": 149,
     "metadata": {},
     "output_type": "execute_result"
    }
   ],
   "source": [
    "results_df.head()"
   ]
  },
  {
   "cell_type": "code",
   "execution_count": 150,
   "metadata": {},
   "outputs": [
    {
     "data": {
      "image/png": "[encoded data removed]",
      "text/plain": [
       "<Figure size 1500x500 with 2 Axes>"
      ]
     },
     "metadata": {},
     "output_type": "display_data"
    }
   ],
   "source": [
    "# plot a bar graph of the results for Al values and AML for each gdf\n",
    "fig, axs = plt.subplots(1, 2, figsize=(15, 5))\n",
    "\n",
    "# Plot the bar graph for Al values\n",
    "results_df.pivot(index='GDF',columns='Filter Method',values='AL').plot(kind='bar',ax=axs[0])\n",
    "\n",
    "# Plot the bar graph for AML values\n",
    "\n",
    "results_df.pivot(index='GDF',columns='Filter Method',values='Average').plot(kind='bar',ax=axs[1])\n",
    "\n",
    "plt.show()"
   ]
  },
  {
   "cell_type": "code",
   "execution_count": null,
   "metadata": {},
   "outputs": [],
   "source": []
  },
  {
   "cell_type": "code",
   "execution_count": null,
   "metadata": {},
   "outputs": [],
   "source": []
  },
  {
   "cell_type": "code",
   "execution_count": null,
   "metadata": {},
   "outputs": [],
   "source": []
  }
 ],
 "metadata": {
  "kernelspec": {
   "display_name": "pymc_env",
   "language": "python",
   "name": "python3"
  },
  "language_info": {
   "codemirror_mode": {
    "name": "ipython",
    "version": 3
   },
   "file_extension": ".py",
   "mimetype": "text/x-python",
   "name": "python",
   "nbconvert_exporter": "python",
   "pygments_lexer": "ipython3",
   "version": "3.12.8"
  }
 },
 "nbformat": 4,
 "nbformat_minor": 2
}
