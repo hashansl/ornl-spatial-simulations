{
 "cells": [
  {
   "cell_type": "markdown",
   "id": "12661b57",
   "metadata": {},
   "source": []
  },
  {
   "cell_type": "code",
   "execution_count": 1,
   "id": "85402644",
   "metadata": {},
   "outputs": [],
   "source": [
    "import numpy as np\n",
    "import scipy.sparse as sp\n",
    "from scipy.linalg import inv\n",
    "import matplotlib.pyplot as plt\n",
    "import seaborn as sns\n",
    "import pandas as pd\n",
    "from shapely import geometry as geom\n",
    "import geopandas as gpd"
   ]
  },
  {
   "cell_type": "code",
   "execution_count": 2,
   "id": "62146938",
   "metadata": {},
   "outputs": [],
   "source": [
    "def create_queen_adjacency(n):\n",
    "    \"\"\"\n",
    "    Create a queen adjacency matrix for an n x n grid.\n",
    "    Each cell is connected to its 8 adjacent neighbors (N, S, E, W, NE, NW, SE, SW).\n",
    "    \n",
    "    Parameters:\n",
    "    -----------\n",
    "    n : int\n",
    "        Size of the grid (n x n)\n",
    "        \n",
    "    Returns:\n",
    "    --------\n",
    "    W : scipy.sparse.csr_matrix\n",
    "        Sparse adjacency matrix (n² x n²)\n",
    "    \"\"\"\n",
    "    W = sp.lil_matrix((n * n, n * n))\n",
    "    for row in range(n):\n",
    "        for col in range(n):\n",
    "            idx = row * n + col\n",
    "            \n",
    "            # Cardinal directions (same as rook)\n",
    "            if row > 0:  # North\n",
    "                W[idx, (row - 1) * n + col] = 1\n",
    "            if row < n - 1:  # South\n",
    "                W[idx, (row + 1) * n + col] = 1\n",
    "            if col > 0:  # West\n",
    "                W[idx, row * n + (col - 1)] = 1\n",
    "            if col < n - 1:  # East\n",
    "                W[idx, row * n + (col + 1)] = 1\n",
    "                \n",
    "            # Diagonal connections (unique to queen)\n",
    "            if row > 0 and col > 0:  # Northwest\n",
    "                W[idx, (row - 1) * n + (col - 1)] = 1\n",
    "            if row > 0 and col < n - 1:  # Northeast\n",
    "                W[idx, (row - 1) * n + (col + 1)] = 1\n",
    "            if row < n - 1 and col > 0:  # Southwest\n",
    "                W[idx, (row + 1) * n + (col - 1)] = 1\n",
    "            if row < n - 1 and col < n - 1:  # Southeast\n",
    "                W[idx, (row + 1) * n + (col + 1)] = 1\n",
    "    \n",
    "    # Return as CSR format for efficient operations\n",
    "    return W.tocsr()"
   ]
  },
  {
   "cell_type": "code",
   "execution_count": 3,
   "id": "721ba431",
   "metadata": {},
   "outputs": [],
   "source": [
    "w = create_queen_adjacency(3)"
   ]
  },
  {
   "cell_type": "code",
   "execution_count": 6,
   "id": "1be33394",
   "metadata": {},
   "outputs": [
    {
     "name": "stdout",
     "output_type": "stream",
     "text": [
      "[[0. 1. 0. 1. 1. 0. 0. 0. 0.]\n",
      " [1. 0. 1. 1. 1. 1. 0. 0. 0.]\n",
      " [0. 1. 0. 0. 1. 1. 0. 0. 0.]\n",
      " [1. 1. 0. 0. 1. 0. 1. 1. 0.]\n",
      " [1. 1. 1. 1. 0. 1. 1. 1. 1.]\n",
      " [0. 1. 1. 0. 1. 0. 0. 1. 1.]\n",
      " [0. 0. 0. 1. 1. 0. 0. 1. 0.]\n",
      " [0. 0. 0. 1. 1. 1. 1. 0. 1.]\n",
      " [0. 0. 0. 0. 1. 1. 0. 1. 0.]]\n"
     ]
    }
   ],
   "source": [
    "print(w.toarray())"
   ]
  },
  {
   "cell_type": "code",
   "execution_count": 16,
   "id": "dfc2ef22",
   "metadata": {},
   "outputs": [],
   "source": [
    "def row_standardize_sparse(W):\n",
    "    \"\"\"\n",
    "    Row-standardize a sparse matrix efficiently.\n",
    "    \n",
    "    Parameters:\n",
    "    -----------\n",
    "    W : scipy.sparse.csr_matrix\n",
    "        Input sparse matrix\n",
    "        \n",
    "    Returns:\n",
    "    --------\n",
    "    W_std : scipy.sparse.csr_matrix\n",
    "        Row-standardized sparse matrix\n",
    "    \"\"\"\n",
    "    W_csr = W.tocsr()\n",
    "    row_sums = np.array(W_csr.sum(axis=1)).flatten()\n",
    "    # Handle zero row sums to avoid division by zero\n",
    "    # row_sums[row_sums == 0] = 1\n",
    "    \n",
    "    # Create diagonal matrix with inverse of row sums\n",
    "    D_inv = sp.diags(1.0 / row_sums)\n",
    "    \n",
    "    # Multiply to get row-standardized matrix\n",
    "    W_std = D_inv @ W_csr\n",
    "    return W_std"
   ]
  },
  {
   "cell_type": "code",
   "execution_count": 17,
   "id": "6c022d38",
   "metadata": {},
   "outputs": [],
   "source": [
    "w_std = row_standardize_sparse(w)"
   ]
  },
  {
   "cell_type": "code",
   "execution_count": 18,
   "id": "c68efa2f",
   "metadata": {},
   "outputs": [
    {
     "name": "stdout",
     "output_type": "stream",
     "text": [
      "[[0.         0.33333333 0.         0.33333333 0.33333333 0.\n",
      "  0.         0.         0.        ]\n",
      " [0.2        0.         0.2        0.2        0.2        0.2\n",
      "  0.         0.         0.        ]\n",
      " [0.         0.33333333 0.         0.         0.33333333 0.33333333\n",
      "  0.         0.         0.        ]\n",
      " [0.2        0.2        0.         0.         0.2        0.\n",
      "  0.2        0.2        0.        ]\n",
      " [0.125      0.125      0.125      0.125      0.         0.125\n",
      "  0.125      0.125      0.125     ]\n",
      " [0.         0.2        0.2        0.         0.2        0.\n",
      "  0.         0.2        0.2       ]\n",
      " [0.         0.         0.         0.33333333 0.33333333 0.\n",
      "  0.         0.33333333 0.        ]\n",
      " [0.         0.         0.         0.2        0.2        0.2\n",
      "  0.2        0.         0.2       ]\n",
      " [0.         0.         0.         0.         0.33333333 0.33333333\n",
      "  0.         0.33333333 0.        ]]\n"
     ]
    }
   ],
   "source": [
    "print(w_std.toarray())"
   ]
  },
  {
   "cell_type": "code",
   "execution_count": 19,
   "id": "7bfc8a16",
   "metadata": {},
   "outputs": [],
   "source": [
    "np.random.seed(42)\n",
    "n = w.shape[0]"
   ]
  },
  {
   "cell_type": "code",
   "execution_count": 20,
   "id": "9c4eac2d",
   "metadata": {},
   "outputs": [
    {
     "data": {
      "text/plain": [
       "9"
      ]
     },
     "execution_count": 20,
     "metadata": {},
     "output_type": "execute_result"
    }
   ],
   "source": [
    "n"
   ]
  },
  {
   "cell_type": "code",
   "execution_count": 21,
   "id": "8305558d",
   "metadata": {},
   "outputs": [],
   "source": [
    "I = sp.identity(n, format='csr')"
   ]
  },
  {
   "cell_type": "code",
   "execution_count": 22,
   "id": "6c66f6e6",
   "metadata": {},
   "outputs": [
    {
     "name": "stdout",
     "output_type": "stream",
     "text": [
      "[[1. 0. 0. 0. 0. 0. 0. 0. 0.]\n",
      " [0. 1. 0. 0. 0. 0. 0. 0. 0.]\n",
      " [0. 0. 1. 0. 0. 0. 0. 0. 0.]\n",
      " [0. 0. 0. 1. 0. 0. 0. 0. 0.]\n",
      " [0. 0. 0. 0. 1. 0. 0. 0. 0.]\n",
      " [0. 0. 0. 0. 0. 1. 0. 0. 0.]\n",
      " [0. 0. 0. 0. 0. 0. 1. 0. 0.]\n",
      " [0. 0. 0. 0. 0. 0. 0. 1. 0.]\n",
      " [0. 0. 0. 0. 0. 0. 0. 0. 1.]]\n"
     ]
    }
   ],
   "source": [
    "print(I.toarray())"
   ]
  },
  {
   "cell_type": "code",
   "execution_count": 23,
   "id": "ee6ec2c8",
   "metadata": {},
   "outputs": [],
   "source": [
    "epsilon = np.random.normal(0, 1, size=n)"
   ]
  },
  {
   "cell_type": "code",
   "execution_count": 24,
   "id": "5301e6c2",
   "metadata": {},
   "outputs": [
    {
     "data": {
      "text/plain": [
       "array([ 0.49671415, -0.1382643 ,  0.64768854,  1.52302986, -0.23415337,\n",
       "       -0.23413696,  1.57921282,  0.76743473, -0.46947439])"
      ]
     },
     "execution_count": 24,
     "metadata": {},
     "output_type": "execute_result"
    }
   ],
   "source": [
    "epsilon"
   ]
  },
  {
   "cell_type": "code",
   "execution_count": null,
   "id": "c7d94bb8",
   "metadata": {},
   "outputs": [],
   "source": []
  }
 ],
 "metadata": {
  "kernelspec": {
   "display_name": "pytorch",
   "language": "python",
   "name": "python3"
  },
  "language_info": {
   "codemirror_mode": {
    "name": "ipython",
    "version": 3
   },
   "file_extension": ".py",
   "mimetype": "text/x-python",
   "name": "python",
   "nbconvert_exporter": "python",
   "pygments_lexer": "ipython3",
   "version": "3.11.4"
  }
 },
 "nbformat": 4,
 "nbformat_minor": 5
}
