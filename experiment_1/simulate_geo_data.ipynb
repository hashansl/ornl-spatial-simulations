{
 "cells": [
  {
   "cell_type": "markdown",
   "metadata": {},
   "source": [
    "#### Simulate the Positive,Negative and Random Sampling"
   ]
  },
  {
   "cell_type": "code",
   "execution_count": 1,
   "metadata": {},
   "outputs": [],
   "source": [
    "import numpy as np\n",
    "import pandas as pd\n",
    "import geopandas as gpd\n",
    "from shapely import geometry as geom\n",
    "from scipy.ndimage import gaussian_filter\n",
    "\n",
    "import matplotlib.pyplot as plt\n"
   ]
  },
  {
   "cell_type": "code",
   "execution_count": 2,
   "metadata": {},
   "outputs": [],
   "source": [
    "def generate_grid_dataframe(grid_side_length, autocorrelation=\"positive\", random_seed=42):\n",
    "    \"\"\"\n",
    "    Generates a GeoDataFrame based on the grid size of one side with different types of spatial autocorrelation.\n",
    "    \n",
    "    Parameters:\n",
    "        grid_side_length (int): The number of squares along one side of the grid.\n",
    "        autocorrelation (str): Type of spatial autocorrelation. Options:\n",
    "                               \"none\" - No spatial correlation (pure random)\n",
    "                               \"positive\" - Spatially smoothed using a Gaussian filter\n",
    "                               \"negative\" - Spatially negative correlation (inverted)\n",
    "                               \"cluster\" - Clustered spatial pattern with defined centers\n",
    "        random_seed (int): Random seed for reproducibility.\n",
    "\n",
    "    Returns:\n",
    "        GeoDataFrame: A GeoDataFrame containing square geometries and values based on the selected correlation.\n",
    "    \"\"\"\n",
    "    np.random.seed(random_seed)  # Set the random seed for reproducibility\n",
    "\n",
    "    num_squares = grid_side_length ** 2\n",
    "    df = pd.DataFrame({'Index': np.arange(num_squares)})\n",
    "\n",
    "    # Define grid size and statistical parameters\n",
    "    grid_size = (grid_side_length, grid_side_length)\n",
    "    mean, std_dev = 0.5, 0.125\n",
    "\n",
    "    # Generate initial random values\n",
    "    random_values = np.random.normal(mean, std_dev, grid_size)\n",
    "\n",
    "    if autocorrelation == \"none\":\n",
    "        values = random_values  # No spatial correlation\n",
    "\n",
    "    elif autocorrelation == \"positive\":\n",
    "        values = gaussian_filter(random_values, sigma=1.5)  # Apply Gaussian smoothing for spatial correlation\n",
    "\n",
    "    elif autocorrelation == \"negative\":\n",
    "        smoothed_values = gaussian_filter(random_values, sigma=1.5)\n",
    "        checkerboard = np.indices(grid_size).sum(axis=0) % 2  # Create checkerboard pattern (alternating 0s and 1s)\n",
    "        values = smoothed_values * (-1) ** checkerboard  # Flip alternating cells # This operation flips the sign of every other cell in a checkerboard pattern.\n",
    "        # add background noise\n",
    "        values += np.random.normal(0, 0.05, grid_size)\n",
    "\n",
    "    elif autocorrelation == \"cluster\":\n",
    "        # Generate clustered pattern\n",
    "        values = np.zeros(grid_size)  # Start with zeros\n",
    "        # Define cluster centers (example: 2 clusters)\n",
    "        n_clusters = 2\n",
    "        cluster_centers = np.random.randint(0, grid_side_length, (n_clusters, 2))\n",
    "        cluster_radius = grid_side_length // 4  # Define cluster influence radius\n",
    "        \n",
    "        # Create distance-based clusters\n",
    "        for center in cluster_centers:\n",
    "            y, x = np.ogrid[:grid_size[0], :grid_size[1]]\n",
    "            # Calculate distance from cluster center\n",
    "            dist_from_center = np.sqrt((x - center[1])**2 + (y - center[0])**2)\n",
    "            # Apply Gaussian decay within radius\n",
    "            cluster_effect = np.exp(-dist_from_center**2 / (2 * cluster_radius**2))\n",
    "            values += cluster_effect * np.random.normal(0.5, 0.2)  # Add cluster effect\n",
    "        \n",
    "        # Add background noise\n",
    "        values += np.random.normal(0, 0.05, grid_size)\n",
    "\n",
    "    else:\n",
    "        raise ValueError(\"Invalid autocorrelation type. Choose from 'none', 'positive', 'negative', or 'cluster'.\")\n",
    "\n",
    "    # Assign values to the DataFrame\n",
    "    df['Value'] = values.ravel()\n",
    "\n",
    "    # Function to calculate square coordinates\n",
    "    def calculate_square_coordinates(row):\n",
    "        value = row['Index']\n",
    "        x = value % grid_side_length\n",
    "        y = value // grid_side_length\n",
    "        return geom.Polygon([(x, y), (x+1, y), (x+1, y+1), (x, y+1)])\n",
    "\n",
    "    # Convert to GeoDataFrame with square geometries\n",
    "    df['geometry'] = df.apply(calculate_square_coordinates, axis=1)\n",
    "    gdf = gpd.GeoDataFrame(df, geometry='geometry')\n",
    "\n",
    "    return gdf\n",
    "\n",
    "# Example usage:\n",
    "# gdf = generate_grid_dataframe(10, autocorrelation=\"cluster\", random_seed=42)\n",
    "# gdf.plot(column='Value', cmap='viridis')"
   ]
  },
  {
   "cell_type": "code",
   "execution_count": 3,
   "metadata": {},
   "outputs": [
    {
     "name": "stdout",
     "output_type": "stream",
     "text": [
      "Sum of values in the grid with no spatial correlation: 70.54346816827575\n",
      "Sum of values in the grid with positive spatial correlation: 70.54346816827575\n",
      "Sum of values in the grid with negative spatial correlation: 0.4328642610294613\n",
      "Sum of values in the grid with clustered spatial correlation: 23.511408569723365\n"
     ]
    }
   ],
   "source": [
    "grid_length = 12\n",
    "\n",
    "gdf_none = generate_grid_dataframe(grid_length, autocorrelation=\"none\", random_seed=42)        # No spatial correlation\n",
    "gdf_positive = generate_grid_dataframe(grid_length, autocorrelation=\"positive\", random_seed=42)  # Positive spatial correlation\n",
    "gdf_negative = generate_grid_dataframe(grid_length, autocorrelation=\"negative\", random_seed=42)  # Negative spatial correlation\n",
    "gdf_cluster = generate_grid_dataframe(grid_length, autocorrelation=\"cluster\", random_seed=42)  # Clustered spatial correlation\n",
    "\n",
    "\n",
    "# print the sum of the values in each grid\n",
    "print(f\"Sum of values in the grid with no spatial correlation: {gdf_none['Value'].sum()}\")\n",
    "print(f\"Sum of values in the grid with positive spatial correlation: {gdf_positive['Value'].sum()}\")\n",
    "print(f\"Sum of values in the grid with negative spatial correlation: {gdf_negative['Value'].sum()}\")\n",
    "print(f\"Sum of values in the grid with clustered spatial correlation: {gdf_cluster['Value'].sum()}\")\n",
    "\n"
   ]
  },
  {
   "cell_type": "code",
   "execution_count": 4,
   "metadata": {},
   "outputs": [
    {
     "data": {
      "image/png": "[encoded data removed]",
      "text/plain": [
       "<Figure size 1500x500 with 4 Axes>"
      ]
     },
     "metadata": {},
     "output_type": "display_data"
    }
   ],
   "source": [
    "import matplotlib.pyplot as plt\n",
    "\n",
    "fig, axs = plt.subplots(1, 4, figsize=(15, 5))\n",
    "\n",
    "# Plot each GeoDataFrame and remove axes\n",
    "gdf_none.plot(column='Value', cmap='coolwarm', legend=False, ax=axs[0])\n",
    "gdf_positive.plot(column='Value', cmap='coolwarm', legend=False, ax=axs[1])\n",
    "gdf_cluster.plot(column='Value', cmap='coolwarm', legend=False, ax=axs[2])\n",
    "gdf_negative.plot(column='Value', cmap='coolwarm', legend=False, ax=axs[3])\n",
    "\n",
    "# Remove axes\n",
    "for ax in axs:\n",
    "    ax.set_axis_off()\n",
    "\n",
    "plt.show()\n"
   ]
  },
  {
   "cell_type": "code",
   "execution_count": 6,
   "metadata": {},
   "outputs": [
    {
     "data": {
      "image/png": "[encoded data removed]",
      "text/plain": [
       "<Figure size 1500x500 with 3 Axes>"
      ]
     },
     "metadata": {},
     "output_type": "display_data"
    }
   ],
   "source": [
    "import matplotlib.pyplot as plt\n",
    "\n",
    "fig, axs = plt.subplots(1, 3, figsize=(15, 5))\n",
    "\n",
    "# Plot each GeoDataFrame and remove axes\n",
    "gdf_none.plot(column='Value', cmap='coolwarm', legend=False, ax=axs[0])\n",
    "gdf_positive.plot(column='Value', cmap='coolwarm', legend=False, ax=axs[1])\n",
    "gdf_negative.plot(column='Value', cmap='coolwarm', legend=False, ax=axs[2])\n",
    "\n",
    "# add titles\n",
    "axs[0].set_title(\"(a)\")\n",
    "axs[1].set_title(\"(b)\")\n",
    "axs[2].set_title(\"(c)\")\n",
    "\n",
    "# Remove axes\n",
    "for ax in axs:\n",
    "    ax.set_axis_off()\n",
    "\n",
    "plt.show()"
   ]
  },
  {
   "cell_type": "code",
   "execution_count": null,
   "metadata": {},
   "outputs": [],
   "source": []
  },
  {
   "cell_type": "code",
   "execution_count": null,
   "metadata": {},
   "outputs": [],
   "source": []
  }
 ],
 "metadata": {
  "kernelspec": {
   "display_name": "pymc_env",
   "language": "python",
   "name": "python3"
  },
  "language_info": {
   "codemirror_mode": {
    "name": "ipython",
    "version": 3
   },
   "file_extension": ".py",
   "mimetype": "text/x-python",
   "name": "python",
   "nbconvert_exporter": "python",
   "pygments_lexer": "ipython3",
   "version": "3.12.8"
  }
 },
 "nbformat": 4,
 "nbformat_minor": 2
}
